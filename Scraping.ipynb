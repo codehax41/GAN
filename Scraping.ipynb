{
 "cells": [
  {
   "cell_type": "markdown",
   "id": "c3e581ef",
   "metadata": {},
   "source": [
    "## YT Scraping and CNN"
   ]
  },
  {
   "cell_type": "code",
   "execution_count": 34,
   "id": "ff56facf",
   "metadata": {},
   "outputs": [],
   "source": [
    "from selenium import webdriver\n",
    "import pandas as pd\n",
    "import numpy as np\n",
    "from selenium.webdriver.common.by import By\n",
    "from selenium.webdriver.support.ui import WebDriverWait\n",
    "from selenium.webdriver.support import expected_conditions as EC\n",
    "from selenium.webdriver.chrome.options import Options\n",
    "from selenium.common.exceptions import TimeoutException\n",
    "from selenium.webdriver.support.ui import WebDriverWait\n",
    "from keras.models import Sequential\n",
    "from keras.layers.core import Dense, Dropout, Activation\n",
    "from keras.utils import np_utils\n",
    "from keras.preprocessing.text import Tokenizer\n",
    "from keras import metrics\n",
    "from sklearn.model_selection import train_test_split"
   ]
  },
  {
   "cell_type": "code",
   "execution_count": null,
   "id": "0f080b24",
   "metadata": {},
   "outputs": [],
   "source": [
    "options = Options()\n",
    "options.binary_location = \"C:\\Program Files\\Google\\Chrome\\Application\\chrome.exe\"\n",
    "driver = webdriver.Chrome(chrome_options = options, executable_path=r'chromedriver.exe')"
   ]
  },
  {
   "cell_type": "code",
   "execution_count": 30,
   "id": "b538ca34",
   "metadata": {},
   "outputs": [],
   "source": [
    "#driver = webdriver.Chrome()\n",
    "driver.get(\"https://www.youtube.com/results?search_query=art+and+dance+of+france&sp=EgIQAQ%253D%253D\")"
   ]
  },
  {
   "cell_type": "code",
   "execution_count": null,
   "id": "33995497",
   "metadata": {},
   "outputs": [],
   "source": [
    "data = driver.find_elements_by_xpath('//*[@id=\"video-title\"]')\n",
    "links = []\n",
    "for i in data:\n",
    "    links.append(i.get_attribute('href'))\n",
    "print(len(links))\n",
    "df1 = pd.DataFrame(columns = ['link', 'title', 'description', 'catagory'])"
   ]
  },
  {
   "cell_type": "code",
   "execution_count": null,
   "id": "f2b33f65",
   "metadata": {},
   "outputs": [],
   "source": [
    "wait = WebDriverWait(driver, 10)\n",
    "v_category = \"Art & Dance\"\n",
    "for x in links:\n",
    "    #Extract dates from for each user on a page\n",
    "    driver.get(x)\n",
    "    v_id = x.strip('https://www.youtube.com/watch?v=')\n",
    "    v_title = wait.until(EC.presence_of_element_located((By.CSS_SELECTOR,\"h1.title yt-formatted-string\"))).text\n",
    "    v_description = wait.until(EC.presence_of_element_located((By.CSS_SELECTOR,\"div#description yt-formatted-string\"))).text\n",
    "    df1.loc[len(df1)] = [v_id, v_title, v_description, v_category]"
   ]
  },
  {
   "cell_type": "code",
   "execution_count": null,
   "id": "5f7e83d1",
   "metadata": {},
   "outputs": [],
   "source": [
    "frames = [df_travel, df_science, df_food, df_manufacturing, df_history, df_artndance]\n",
    "df_copy = pd.concat(frames,axis=0, join='outer', join_axes=None, ignore_index=True,\n",
    "                    keys=None, levels=None, names=None, verify_integrity=False, copy=True)"
   ]
  },
  {
   "cell_type": "code",
   "execution_count": null,
   "id": "64308bf4",
   "metadata": {},
   "outputs": [],
   "source": [
    "df_copy = df_copy.sample(frac=1).reset_index(drop=True)\n",
    "df_copy.to_csv(\"scraped_yt.csv\", encoding='utf-8', index=False)"
   ]
  },
  {
   "cell_type": "code",
   "execution_count": 32,
   "id": "fad98025",
   "metadata": {},
   "outputs": [
    {
     "data": {
      "text/html": [
       "<div>\n",
       "<style scoped>\n",
       "    .dataframe tbody tr th:only-of-type {\n",
       "        vertical-align: middle;\n",
       "    }\n",
       "\n",
       "    .dataframe tbody tr th {\n",
       "        vertical-align: top;\n",
       "    }\n",
       "\n",
       "    .dataframe thead th {\n",
       "        text-align: right;\n",
       "    }\n",
       "</style>\n",
       "<table border=\"1\" class=\"dataframe\">\n",
       "  <thead>\n",
       "    <tr style=\"text-align: right;\">\n",
       "      <th></th>\n",
       "      <th>links</th>\n",
       "      <th>title</th>\n",
       "      <th>description</th>\n",
       "      <th>category</th>\n",
       "    </tr>\n",
       "  </thead>\n",
       "  <tbody>\n",
       "    <tr>\n",
       "      <th>0</th>\n",
       "      <td>6bBQ3pd0YU8</td>\n",
       "      <td>american tap danc orchestra strike train chore...</td>\n",
       "      <td>atdo perform strike train joyc theater nyc cho...</td>\n",
       "      <td>0</td>\n",
       "    </tr>\n",
       "    <tr>\n",
       "      <th>1</th>\n",
       "      <td>JLU0c0mmvxg</td>\n",
       "      <td>robonaut space station nasa space scienc hd video</td>\n",
       "      <td>visit websit http www junglejoel com robonaut ...</td>\n",
       "      <td>4</td>\n",
       "    </tr>\n",
       "    <tr>\n",
       "      <th>2</th>\n",
       "      <td>IojqhtUwz50</td>\n",
       "      <td>european spacecraft pass key reentri test esa ...</td>\n",
       "      <td>visit websit http www junglejoel com european ...</td>\n",
       "      <td>4</td>\n",
       "    </tr>\n",
       "    <tr>\n",
       "      <th>3</th>\n",
       "      <td>-zgGVyADnFE</td>\n",
       "      <td>jordan bouri frontrow world danc franc qualifi</td>\n",
       "      <td>first perform world danc</td>\n",
       "      <td>0</td>\n",
       "    </tr>\n",
       "  </tbody>\n",
       "</table>\n",
       "</div>"
      ],
      "text/plain": [
       "         links                                              title  \\\n",
       "0  6bBQ3pd0YU8  american tap danc orchestra strike train chore...   \n",
       "1  JLU0c0mmvxg  robonaut space station nasa space scienc hd video   \n",
       "2  IojqhtUwz50  european spacecraft pass key reentri test esa ...   \n",
       "3  -zgGVyADnFE     jordan bouri frontrow world danc franc qualifi   \n",
       "\n",
       "                                         description  category  \n",
       "0  atdo perform strike train joyc theater nyc cho...         0  \n",
       "1  visit websit http www junglejoel com robonaut ...         4  \n",
       "2  visit websit http www junglejoel com european ...         4  \n",
       "3                           first perform world danc         0  "
      ]
     },
     "execution_count": 32,
     "metadata": {},
     "output_type": "execute_result"
    }
   ],
   "source": [
    "datset = pd.read_csv('scraped_yt.csv')\n",
    "datset.head(4)"
   ]
  },
  {
   "cell_type": "code",
   "execution_count": 33,
   "id": "f5af6e8c",
   "metadata": {},
   "outputs": [],
   "source": [
    "datset.fillna(method='ffill', inplace=True)"
   ]
  },
  {
   "cell_type": "code",
   "execution_count": 35,
   "id": "ad2aa704",
   "metadata": {},
   "outputs": [
    {
     "data": {
      "text/plain": [
       "((8375,), (8375,))"
      ]
     },
     "execution_count": 35,
     "metadata": {},
     "output_type": "execute_result"
    }
   ],
   "source": [
    "X = datset['description']\n",
    "y = datset['category']\n",
    "X.shape,y.shape"
   ]
  },
  {
   "cell_type": "code",
   "execution_count": 36,
   "id": "a116669d",
   "metadata": {},
   "outputs": [
    {
     "data": {
      "text/plain": [
       "<6281x36339 sparse matrix of type '<class 'numpy.int64'>'\n",
       "\twith 375185 stored elements in Compressed Sparse Row format>"
      ]
     },
     "execution_count": 36,
     "metadata": {},
     "output_type": "execute_result"
    }
   ],
   "source": [
    "from sklearn.feature_extraction.text import CountVectorizer\n",
    "X_train, X_test, y_train, y_test = train_test_split(X,y,test_size=0.25, random_state=42)\n",
    "vectorizer = CountVectorizer()\n",
    "vectorizer.fit(X_train)\n",
    "X_train = vectorizer.transform(X_train)\n",
    "X_test  = vectorizer.transform(X_test)\n",
    "X_train"
   ]
  },
  {
   "cell_type": "code",
   "execution_count": 37,
   "id": "a4f42f44",
   "metadata": {},
   "outputs": [
    {
     "name": "stdout",
     "output_type": "stream",
     "text": [
      "Model: \"sequential\"\n",
      "_________________________________________________________________\n",
      " Layer (type)                Output Shape              Param #   \n",
      "=================================================================\n",
      " dense (Dense)               (None, 10)                363400    \n",
      "                                                                 \n",
      " dense_1 (Dense)             (None, 1)                 11        \n",
      "                                                                 \n",
      "=================================================================\n",
      "Total params: 363,411\n",
      "Trainable params: 363,411\n",
      "Non-trainable params: 0\n",
      "_________________________________________________________________\n"
     ]
    }
   ],
   "source": [
    "from keras.models import Sequential\n",
    "from keras import layers\n",
    "\n",
    "input_dim = X_train.shape[1]  # Number of features\n",
    "\n",
    "model = Sequential()\n",
    "model.add(layers.Dense(10, input_dim=input_dim, activation='relu'))\n",
    "model.add(layers.Dense(1, activation='sigmoid'))\n",
    "model.compile(loss='binary_crossentropy', \n",
    "              optimizer='adam', metrics=['accuracy'])\n",
    "model.summary()"
   ]
  },
  {
   "cell_type": "code",
   "execution_count": 41,
   "id": "20a5f341",
   "metadata": {},
   "outputs": [],
   "source": [
    "history = model.fit(X_train, y_train,\n",
    "                    epochs=100,verbose=True,\n",
    "                    validation_data=(X_test, y_test),\n",
    "                    batch_size=32,\n",
    "                    #validation_split=0.5\n",
    "                   )"
   ]
  },
  {
   "cell_type": "code",
   "execution_count": null,
   "id": "8d414d34",
   "metadata": {},
   "outputs": [],
   "source": [
    "import matplotlib.pyplot as plt\n",
    "plt.style.use('ggplot')\n",
    "\n",
    "def plot_history(history):\n",
    "    acc = history.history['acc']\n",
    "    val_acc = history.history['val_acc']\n",
    "    loss = history.history['loss']\n",
    "    val_loss = history.history['val_loss']\n",
    "    x = range(1, len(acc) + 1)\n",
    "\n",
    "    plt.figure(figsize=(12, 5))\n",
    "    plt.subplot(1, 2, 1)\n",
    "    plt.plot(x, acc, 'b', label='Training acc')\n",
    "    plt.plot(x, val_acc, 'r', label='Validation acc')\n",
    "    plt.title('Training and validation accuracy')\n",
    "    plt.legend()\n",
    "    plt.subplot(1, 2, 2)\n",
    "    plt.plot(x, loss, 'b', label='Training loss')\n",
    "    plt.plot(x, val_loss, 'r', label='Validation loss')\n",
    "    plt.title('Training and validation loss')\n",
    "    plt.legend()\n",
    "plot_history(history)\n",
    "loss, accuracy = model.evaluate(X_train, y_train, verbose=False)\n",
    "print(\"Training Accuracy: {:.4f}\".format(accuracy))"
   ]
  }
 ],
 "metadata": {
  "kernelspec": {
   "display_name": "Python 3",
   "language": "python",
   "name": "python3"
  },
  "language_info": {
   "codemirror_mode": {
    "name": "ipython",
    "version": 3
   },
   "file_extension": ".py",
   "mimetype": "text/x-python",
   "name": "python",
   "nbconvert_exporter": "python",
   "pygments_lexer": "ipython3",
   "version": "3.8.8"
  }
 },
 "nbformat": 4,
 "nbformat_minor": 5
}
